{
 "cells": [
  {
   "cell_type": "markdown",
   "metadata": {},
   "source": [
    "# ---------------------------------------------------------------------\n",
    "# Section 2\n",
    "#   Parallelism with Multiprocessing - Process vs Thread, Parallelism\n",
    "#   Keyword - Process, Thread, 병렬성\n",
    "# ---------------------------------------------------------------------\n",
    "\n",
    "# (1).Parallelism\n",
    "    - 완전히 동일한 타이밍(시점)에 태스크 실행\n",
    "    - 다양한 파트(부분)으로 나눠서 실행(합 나눠서 구하고 취합)\n",
    "    - 멀티프로세싱에서 CPU가 1 Core 인 경우 만족하지 않음\n",
    "    - 딥러닝, 비트코인 채굴 등\n",
    "\n",
    "# (2).Process vs Thread(차이 비교(중요))\n",
    "    - 독립된 메모리(프로세스)              , 공유메모리(스레드)\n",
    "    - 많은 메모리 필요(프로세스)           , 적은 메모리(스레드)\n",
    "    - 좀비(데드)프로세스 생성 가능성       , 좀비(데드) 스레드 생성 쉽지 않음\n",
    "    - 오버헤드 큼(프로세스)                , 오버헤드 작음(스레드)\n",
    "    - 생성/소멸 다소 느림(프로세스)        , 생성/소멸 빠름(스레드)\n",
    "    - 코드 작성 쉬움/디버깅 어려움(프로세스), 코드작성 어려움/디버깅 어려움(스레드)"
   ]
  },
  {
   "cell_type": "markdown",
   "metadata": {},
   "source": [
    "# multiprocessing(1) - Join, is_alive\n",
    "#   Keyword - multiprocessing, processing state"
   ]
  },
  {
   "cell_type": "code",
   "execution_count": 6,
   "metadata": {},
   "outputs": [
    {
     "name": "stderr",
     "output_type": "stream",
     "text": [
      "18:09:52: Main-Process : before creating Process\n",
      "18:09:52: Main-Process : During Process\n",
      "18:09:52: Main-Process : Joined Process\n"
     ]
    },
    {
     "name": "stdout",
     "output_type": "stream",
     "text": [
      "Process p is alive: False\n"
     ]
    }
   ],
   "source": [
    "'''\n",
    "Jupyter Notebook에서는 Sub프로세스 실행 출력 나오지 않음 \n",
    "아래는 py_ad_2_2.py파일 실행으로 얻은 결과 \n",
    "\n",
    "18:07:31: Main-Process : before creating Process\n",
    "18:07:31: Main-Process : During Process\n",
    "18:07:31: Main-Process : Joined Process\n",
    "Sub-Process First: starting\n",
    "Sub-Process First: finishing\n",
    "Process p is alive: False\n",
    "'''\n",
    "\n",
    "from multiprocessing import Process\n",
    "import time\n",
    "import logging\n",
    "\n",
    "# 프로세스 실행 함수\n",
    "def proc_func(name):\n",
    "    print(\"Sub-Process {}: starting\".format(name))\n",
    "    time.sleep(3)\n",
    "    print(\"Sub-Process {}: finishing\".format(name))\n",
    "\n",
    "def main():\n",
    "    # Logging format 설정\n",
    "    format = \"%(asctime)s: %(message)s\"\n",
    "    logging.basicConfig(format=format, level=logging.INFO, datefmt=\"%H:%M:%S\")\n",
    "\n",
    "    # 함수 인자 확인\n",
    "    p = Process(target=proc_func, args=('1st',))\n",
    "\n",
    "    logging.info(\"Main-Process : before creating Process\")\n",
    "\n",
    "    # 프로세스 시작\n",
    "    p.start()\n",
    "\n",
    "    logging.info(\"Main-Process : During Process\")\n",
    "\n",
    "    #logging.info(\"Main-Process : Terminated Process\")\n",
    "    #p.terminate()\n",
    "\n",
    "    logging.info(\"Main-Process : Joined Process\")\n",
    "    p.join()\n",
    "\n",
    "    # 프로세스 상태 확인\n",
    "    print(f'Process p is alive: {p.is_alive()}')\n",
    "\n",
    "# 메인 시작\n",
    "if __name__ == '__main__':\n",
    "    main()"
   ]
  },
  {
   "cell_type": "code",
   "execution_count": 1,
   "metadata": {},
   "outputs": [
    {
     "name": "stdout",
     "output_type": "stream",
     "text": [
      "Parent process ID 20120\n",
      "Main-Processing Done!\n"
     ]
    }
   ],
   "source": [
    "# Parallelism with Multiprocessing - multiprocessing(2) - Naming \n",
    "#   Keyword - Naming, parallel processing\n",
    "#   Jupyter Notebook에서는 Sub프로세스 실행 출력 나오지 않음 : temp.py 파일 활용 \n",
    "\n",
    "from multiprocessing import Process, current_process\n",
    "import os\n",
    "import random\n",
    "import time\n",
    "\n",
    "# 실행 방법\n",
    "def square(n):\n",
    "\n",
    "    # 랜덤 sleep\n",
    "    time.sleep(random.randint(1, 3))\n",
    "    process_id = os.getpid()\n",
    "    process_name = current_process().name\n",
    "\n",
    "    # 제곱\n",
    "    result = n * n\n",
    "    \n",
    "    # 정보 출력\n",
    "    print(f\"Process ID: {process_id}, Process Name: {process_name}\")\n",
    "    print(f\"Result of {n} square : {result}\")\n",
    "\n",
    "\n",
    "if __name__ == \"__main__\":\n",
    "    # 부모 프로세스 아이디\n",
    "    parent_process_id = os.getpid()\n",
    "    # 출력\n",
    "    print(f\"Parent process ID {parent_process_id}\")\n",
    "\n",
    "    # 프로세스 리스트  선언\n",
    "    processes = list()\n",
    "\n",
    "    # 프로세스 생성 및 실행\n",
    "    for i in range(1, 10): # 1 ~ 100 적절히 조절\n",
    "        # 생성\n",
    "        t = Process(name=str(i), target=square, args=(i,))\n",
    "\n",
    "        # 배열에 담기\n",
    "        # 프로세스를 생성시켜 한번에 join을 시키려고 리스트에 담음 \n",
    "        processes.append(t)\n",
    "        #print(processes)\n",
    "\n",
    "        # 시작\n",
    "        t.start()\n",
    "\n",
    "    # Join\n",
    "    for process in processes:\n",
    "        process.join()\n",
    "\n",
    "    # 종료\n",
    "    print(\"Main-Processing Done!\")"
   ]
  },
  {
   "cell_type": "code",
   "execution_count": 7,
   "metadata": {},
   "outputs": [
    {
     "name": "stdout",
     "output_type": "stream",
     "text": [
      "'http://www.daum.net/' generated an exception: A process in the process pool was terminated abruptly while the future was running or pending.\n",
      "'http://www.cnn.com/' generated an exception: A process in the process pool was terminated abruptly while the future was running or pending.\n",
      "'http://europe.wsj.com/' generated an exception: A process in the process pool was terminated abruptly while the future was running or pending.\n",
      "'http://www.bbc.co.uk/' generated an exception: A process in the process pool was terminated abruptly while the future was running or pending.\n",
      "'http://some-made-up-domain.com/' generated an exception: A process in the process pool was terminated abruptly while the future was running or pending.\n"
     ]
    }
   ],
   "source": [
    "# Parallelism with Multiprocessing - multiprocessing(3) - ProcessPoolExecutor\n",
    "#   Keyword - ProcessPoolExecutor, as_completed, futures, timeout, dict\n",
    "#   temp.py에서 테스트 할 것 \n",
    "#   Process를 생성해 할당할 경우 : ProcessPoolExecutor 사용 (Jupyter Notebook에서는 사용 불가)\n",
    "#   https://medium.com/@grvsinghal/speed-up-your-python-code-using-multiprocessing-on-windows-and-jupyter-or-ipython-2714b49d6fac\n",
    "#   Thread를 생성해 할당할 경우 : ThreadPoolExecutor 사용\n",
    "\n",
    "# Future는 대기 중인 작업을 큐에 넣고, 완료 상태를 조사하고, 결과 혹은 예외를 가져올 수 있도록 캡슐화\n",
    "# Executor.map()의 경우, 호출한 순서 그대로 결과를 반환\n",
    "# Executor.submit(), Executor.as_completed()를 함께 사용하면, 완료되는 순서대로 결과 반환 \n",
    "\n",
    "from concurrent.futures import ProcessPoolExecutor, as_completed\n",
    "import urllib.request\n",
    "\n",
    "# 조회 URLS\n",
    "URLS = ['http://www.daum.net/',\n",
    "        'http://www.cnn.com/',\n",
    "        'http://europe.wsj.com/',\n",
    "        'http://www.bbc.co.uk/',\n",
    "        'http://some-made-up-domain.com/']\n",
    "\n",
    "# 실행 함수\n",
    "def load_url(url, timeout):\n",
    "    with urllib.request.urlopen(url, timeout=timeout) as conn:\n",
    "        return conn.read()\n",
    "\n",
    "def main():\n",
    "    # 프로세스풀 Context 영역\n",
    "    with ProcessPoolExecutor(max_workers=5) as executor:\n",
    "        # Future 로드(실행X)\n",
    "        future_to_url = {executor.submit(load_url, url, 60): url for url in URLS}\n",
    "        \n",
    "        # 중간 확인(Dict)\n",
    "        # print(future_to_url)\n",
    "        \n",
    "        # 실행\n",
    "        for future in as_completed(future_to_url): # timeout=1(테스트 추천)\n",
    "            # Key값이 Future 객체\n",
    "            url = future_to_url[future]\n",
    "            try:\n",
    "                # 결과\n",
    "                data = future.result()\n",
    "            except Exception as exc:\n",
    "                # 예외 처리\n",
    "                print('%r generated an exception: %s' % (url, exc))\n",
    "            else:\n",
    "                # 결과 확인\n",
    "                print('%r page is %d bytes' % (url, len(data)))\n",
    "\n",
    "# 메인 시작\n",
    "if __name__ == '__main__':\n",
    "    main()\n"
   ]
  }
 ],
 "metadata": {
  "interpreter": {
   "hash": "54b885242973c1eb5ec99aa88d319ed7666ce484d5ba889fc83dd63910a53bb0"
  },
  "kernelspec": {
   "display_name": "Python 3.10.0 ('venv': venv)",
   "language": "python",
   "name": "python3"
  },
  "language_info": {
   "codemirror_mode": {
    "name": "ipython",
    "version": 3
   },
   "file_extension": ".py",
   "mimetype": "text/x-python",
   "name": "python",
   "nbconvert_exporter": "python",
   "pygments_lexer": "ipython3",
   "version": "3.10.0"
  },
  "orig_nbformat": 4
 },
 "nbformat": 4,
 "nbformat_minor": 2
}
