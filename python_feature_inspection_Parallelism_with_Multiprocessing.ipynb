{
 "cells": [
  {
   "cell_type": "markdown",
   "metadata": {},
   "source": [
    "# Section 2\n",
    "#   Parallelism with Multiprocessing - Process vs Thread, Parallelism\n",
    "#   Keyword - Process, Thread, 병렬성\n",
    "\n",
    "# (1).Parallelism\n",
    "    - 완전히 동일한 타이밍(시점)에 태스크 실행\n",
    "    - 다양한 파트(부분)으로 나눠서 실행(합 나눠서 구하고 취합)\n",
    "    - 멀티프로세싱에서 CPU가 1Core 인 경우 만족하지 않음\n",
    "    - 딥러닝, 비트코인 채굴 등\n",
    "\n",
    "# (2).Process vs Thread(차이 비교(중요))\n",
    "    - 독립된 메모리(프로세스),               공유메모리(스레드)\n",
    "    - 많은 메모리 필요(프로세스),            적은 메모리(스레드)\n",
    "    - 좀비(데드)프로세스 생성 가능성,        좀비(데드) 스레드 생성 쉽지 않음\n",
    "    - 오버헤드 큼(프로세스),                 오버헤드 작음(스레드)\n",
    "    - 생성/소멸 다소 느림(프로세스),         생성/소멸 빠름(스레드)\n",
    "    - 코드 작성 쉬움/디버깅 어려움(프로세스), 코드작성 어려움/디버깅 어려움(스레드)"
   ]
  },
  {
   "cell_type": "markdown",
   "metadata": {},
   "source": [
    "# multiprocessing(1) - Join, is_alive\n",
    "#   Keyword - multiprocessing, processing state"
   ]
  },
  {
   "cell_type": "code",
   "execution_count": 6,
   "metadata": {},
   "outputs": [
    {
     "name": "stderr",
     "output_type": "stream",
     "text": [
      "10:59:54: Main-Process : before creating Process\n",
      "10:59:54: Main-Process : During Process\n",
      "10:59:54: Main-Process : Joined Process\n"
     ]
    },
    {
     "name": "stdout",
     "output_type": "stream",
     "text": [
      "Process p is alive: False\n"
     ]
    }
   ],
   "source": [
    "from multiprocessing import Process\n",
    "import time\n",
    "import logging\n",
    "\n",
    "# 프로세스 실행 함수\n",
    "def proc_func(name):\n",
    "\n",
    "    print(\"Sub-Process {}: starting\".format(name))\n",
    "    time.sleep(3)\n",
    "    print(\"Sub-Process {}: finishing\".format(name))\n",
    "\n",
    "def main():\n",
    "\n",
    "    # Logging format 설정\n",
    "    format = \"%(asctime)s: %(message)s\"\n",
    "    logging.basicConfig(format=format, level=logging.INFO, datefmt=\"%H:%M:%S\")\n",
    "\n",
    "    # 함수 인자 확인\n",
    "    p = Process(target=proc_func, args=('First',))\n",
    "\n",
    "    logging.info(\"Main-Process : before creating Process\")\n",
    "\n",
    "    # 프로세스 시작\n",
    "    p.start()\n",
    "\n",
    "    logging.info(\"Main-Process : During Process\")\n",
    "\n",
    "    #logging.info(\"Main-Process : Terminated Process\")\n",
    "    #p.terminate()\n",
    "\n",
    "    logging.info(\"Main-Process : Joined Process\")\n",
    "    p.join()\n",
    "\n",
    "    # 프로세스 상태 확인\n",
    "    print(f'Process p is alive: {p.is_alive()}')\n",
    "\n",
    "# 메인 시작\n",
    "if __name__ == '__main__':\n",
    "    main()"
   ]
  }
 ],
 "metadata": {
  "interpreter": {
   "hash": "54b885242973c1eb5ec99aa88d319ed7666ce484d5ba889fc83dd63910a53bb0"
  },
  "kernelspec": {
   "display_name": "Python 3.10.0 ('venv': venv)",
   "language": "python",
   "name": "python3"
  },
  "language_info": {
   "codemirror_mode": {
    "name": "ipython",
    "version": 3
   },
   "file_extension": ".py",
   "mimetype": "text/x-python",
   "name": "python",
   "nbconvert_exporter": "python",
   "pygments_lexer": "ipython3",
   "version": "3.10.0"
  },
  "orig_nbformat": 4
 },
 "nbformat": 4,
 "nbformat_minor": 2
}
